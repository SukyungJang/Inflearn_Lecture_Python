{
 "cells": [
  {
   "cell_type": "code",
   "execution_count": 5,
   "metadata": {},
   "outputs": [],
   "source": [
    "from selenium import webdriver\n",
    "from selenium.webdriver.common.by import By\n",
    "from selenium.webdriver.chrome.options import Options\n",
    "from selenium.webdriver.common.keys import Keys\n",
    "from selenium.webdriver.chrome.service import Service\n",
    "import time\n",
    "from selenium.common.exceptions import WebDriverException\n",
    "\n",
    "service = Service(\"C:\\chromedriver.exe\")\n",
    "\n",
    "# 브라우저 꺼짐 방지\n",
    "chrome_options = Options()\n",
    "chrome_options.add_experimental_option(\"detach\", True)\n"
   ]
  },
  {
   "cell_type": "code",
   "execution_count": 11,
   "metadata": {},
   "outputs": [
    {
     "ename": "NoSuchElementException",
     "evalue": "Message: no such element: Unable to locate element: {\"method\":\"css selector\",\"selector\":\"._searchInput_search_input_QXUFf\"}\n  (Session info: chrome=113.0.5672.127)\nStacktrace:\nBacktrace:\n\tGetHandleVerifier [0x00BA8893+48451]\n\t(No symbol) [0x00B3B8A1]\n\t(No symbol) [0x00A45058]\n\t(No symbol) [0x00A70467]\n\t(No symbol) [0x00A7069B]\n\t(No symbol) [0x00A9DD92]\n\t(No symbol) [0x00A8A304]\n\t(No symbol) [0x00A9C482]\n\t(No symbol) [0x00A8A0B6]\n\t(No symbol) [0x00A67E08]\n\t(No symbol) [0x00A68F2D]\n\tGetHandleVerifier [0x00E08E3A+2540266]\n\tGetHandleVerifier [0x00E48959+2801161]\n\tGetHandleVerifier [0x00E4295C+2776588]\n\tGetHandleVerifier [0x00C32280+612144]\n\t(No symbol) [0x00B44F6C]\n\t(No symbol) [0x00B411D8]\n\t(No symbol) [0x00B412BB]\n\t(No symbol) [0x00B34857]\n\tBaseThreadInitThunk [0x751F7D59+25]\n\tRtlInitializeExceptionChain [0x7719B74B+107]\n\tRtlClearBits [0x7719B6CF+191]\n",
     "output_type": "error",
     "traceback": [
      "\u001b[1;31m---------------------------------------------------------------------------\u001b[0m",
      "\u001b[1;31mNoSuchElementException\u001b[0m                    Traceback (most recent call last)",
      "Cell \u001b[1;32mIn[11], line 13\u001b[0m\n\u001b[0;32m     10\u001b[0m time\u001b[39m.\u001b[39msleep(\u001b[39m2\u001b[39m)\n\u001b[0;32m     12\u001b[0m \u001b[39m# 검색창 클릭\u001b[39;00m\n\u001b[1;32m---> 13\u001b[0m search \u001b[39m=\u001b[39m browser\u001b[39m.\u001b[39;49mfind_element(By\u001b[39m.\u001b[39;49mCSS_SELECTOR, \u001b[39m'\u001b[39;49m\u001b[39m._searchInput_search_input_QXUFf\u001b[39;49m\u001b[39m'\u001b[39;49m)\n\u001b[0;32m     14\u001b[0m search\u001b[39m.\u001b[39mclick()\n\u001b[0;32m     16\u001b[0m \u001b[39m# 검색어 입력\u001b[39;00m\n",
      "File \u001b[1;32m~\\AppData\\Roaming\\Python\\Python310\\site-packages\\selenium\\webdriver\\remote\\webdriver.py:831\u001b[0m, in \u001b[0;36mWebDriver.find_element\u001b[1;34m(self, by, value)\u001b[0m\n\u001b[0;32m    828\u001b[0m     by \u001b[39m=\u001b[39m By\u001b[39m.\u001b[39mCSS_SELECTOR\n\u001b[0;32m    829\u001b[0m     value \u001b[39m=\u001b[39m \u001b[39mf\u001b[39m\u001b[39m'\u001b[39m\u001b[39m[name=\u001b[39m\u001b[39m\"\u001b[39m\u001b[39m{\u001b[39;00mvalue\u001b[39m}\u001b[39;00m\u001b[39m\"\u001b[39m\u001b[39m]\u001b[39m\u001b[39m'\u001b[39m\n\u001b[1;32m--> 831\u001b[0m \u001b[39mreturn\u001b[39;00m \u001b[39mself\u001b[39;49m\u001b[39m.\u001b[39;49mexecute(Command\u001b[39m.\u001b[39;49mFIND_ELEMENT, {\u001b[39m\"\u001b[39;49m\u001b[39musing\u001b[39;49m\u001b[39m\"\u001b[39;49m: by, \u001b[39m\"\u001b[39;49m\u001b[39mvalue\u001b[39;49m\u001b[39m\"\u001b[39;49m: value})[\u001b[39m\"\u001b[39m\u001b[39mvalue\u001b[39m\u001b[39m\"\u001b[39m]\n",
      "File \u001b[1;32m~\\AppData\\Roaming\\Python\\Python310\\site-packages\\selenium\\webdriver\\remote\\webdriver.py:440\u001b[0m, in \u001b[0;36mWebDriver.execute\u001b[1;34m(self, driver_command, params)\u001b[0m\n\u001b[0;32m    438\u001b[0m response \u001b[39m=\u001b[39m \u001b[39mself\u001b[39m\u001b[39m.\u001b[39mcommand_executor\u001b[39m.\u001b[39mexecute(driver_command, params)\n\u001b[0;32m    439\u001b[0m \u001b[39mif\u001b[39;00m response:\n\u001b[1;32m--> 440\u001b[0m     \u001b[39mself\u001b[39;49m\u001b[39m.\u001b[39;49merror_handler\u001b[39m.\u001b[39;49mcheck_response(response)\n\u001b[0;32m    441\u001b[0m     response[\u001b[39m\"\u001b[39m\u001b[39mvalue\u001b[39m\u001b[39m\"\u001b[39m] \u001b[39m=\u001b[39m \u001b[39mself\u001b[39m\u001b[39m.\u001b[39m_unwrap_value(response\u001b[39m.\u001b[39mget(\u001b[39m\"\u001b[39m\u001b[39mvalue\u001b[39m\u001b[39m\"\u001b[39m, \u001b[39mNone\u001b[39;00m))\n\u001b[0;32m    442\u001b[0m     \u001b[39mreturn\u001b[39;00m response\n",
      "File \u001b[1;32m~\\AppData\\Roaming\\Python\\Python310\\site-packages\\selenium\\webdriver\\remote\\errorhandler.py:245\u001b[0m, in \u001b[0;36mErrorHandler.check_response\u001b[1;34m(self, response)\u001b[0m\n\u001b[0;32m    243\u001b[0m         alert_text \u001b[39m=\u001b[39m value[\u001b[39m\"\u001b[39m\u001b[39malert\u001b[39m\u001b[39m\"\u001b[39m]\u001b[39m.\u001b[39mget(\u001b[39m\"\u001b[39m\u001b[39mtext\u001b[39m\u001b[39m\"\u001b[39m)\n\u001b[0;32m    244\u001b[0m     \u001b[39mraise\u001b[39;00m exception_class(message, screen, stacktrace, alert_text)  \u001b[39m# type: ignore[call-arg]  # mypy is not smart enough here\u001b[39;00m\n\u001b[1;32m--> 245\u001b[0m \u001b[39mraise\u001b[39;00m exception_class(message, screen, stacktrace)\n",
      "\u001b[1;31mNoSuchElementException\u001b[0m: Message: no such element: Unable to locate element: {\"method\":\"css selector\",\"selector\":\"._searchInput_search_input_QXUFf\"}\n  (Session info: chrome=113.0.5672.127)\nStacktrace:\nBacktrace:\n\tGetHandleVerifier [0x00BA8893+48451]\n\t(No symbol) [0x00B3B8A1]\n\t(No symbol) [0x00A45058]\n\t(No symbol) [0x00A70467]\n\t(No symbol) [0x00A7069B]\n\t(No symbol) [0x00A9DD92]\n\t(No symbol) [0x00A8A304]\n\t(No symbol) [0x00A9C482]\n\t(No symbol) [0x00A8A0B6]\n\t(No symbol) [0x00A67E08]\n\t(No symbol) [0x00A68F2D]\n\tGetHandleVerifier [0x00E08E3A+2540266]\n\tGetHandleVerifier [0x00E48959+2801161]\n\tGetHandleVerifier [0x00E4295C+2776588]\n\tGetHandleVerifier [0x00C32280+612144]\n\t(No symbol) [0x00B44F6C]\n\t(No symbol) [0x00B411D8]\n\t(No symbol) [0x00B412BB]\n\t(No symbol) [0x00B34857]\n\tBaseThreadInitThunk [0x751F7D59+25]\n\tRtlInitializeExceptionChain [0x7719B74B+107]\n\tRtlClearBits [0x7719B6CF+191]\n"
     ]
    }
   ],
   "source": [
    "# 브라우저 생성\n",
    "browser = webdriver.Chrome(service=service, options = chrome_options)\n",
    "\n",
    "# 웹 사이트 열기\n",
    "browser.get(\"https://www.naver.com\")\n",
    "browser.implicitly_wait(10) # 로딩이 끝날 때까지 10초까지는 기다려줌\n",
    "\n",
    "# 쇼핑 메뉴 클릭하기\n",
    "browser.find_element(By.CSS_SELECTOR, '#shortcutArea > ul > li:nth-child(4) > a').click()\n",
    "time.sleep(2)\n",
    "\n",
    "# 검색창 클릭\n",
    "search = browser.find_element(By.CSS_SELECTOR, '._searchInput_search_input_QXUFf')\n",
    "search.click()\n",
    "\n",
    "# 검색어 입력\n",
    "search.send_keys('아이폰 13')\n",
    "search.send_keys(Keys.ENTER)"
   ]
  },
  {
   "cell_type": "code",
   "execution_count": null,
   "metadata": {},
   "outputs": [],
   "source": []
  }
 ],
 "metadata": {
  "kernelspec": {
   "display_name": "Python 3",
   "language": "python",
   "name": "python3"
  },
  "language_info": {
   "codemirror_mode": {
    "name": "ipython",
    "version": 3
   },
   "file_extension": ".py",
   "mimetype": "text/x-python",
   "name": "python",
   "nbconvert_exporter": "python",
   "pygments_lexer": "ipython3",
   "version": "3.10.10"
  },
  "orig_nbformat": 4
 },
 "nbformat": 4,
 "nbformat_minor": 2
}
